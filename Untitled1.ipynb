{
 "cells": [
  {
   "cell_type": "code",
   "execution_count": 2,
   "metadata": {},
   "outputs": [],
   "source": [
    "import numpy as np\n",
    "import math\n",
    "import matplotlib.pyplot as plt\n",
    "import cv2 as cv\n",
    "from PIL import Image"
   ]
  },
  {
   "cell_type": "code",
   "execution_count": 46,
   "metadata": {},
   "outputs": [],
   "source": [
    "img=[]\n",
    "y_train=[]\n",
    "for i in range(1,45):\n",
    "    temp=Image.open('dataset/mango1/'+str(i)+'.jpg')\n",
    "    temp=temp.resize((15,15))\n",
    "    temp=np.array(temp)\n",
    "    temp=cv.cvtColor(temp,cv.COLOR_RGB2GRAY)\n",
    "    temp=np.reshape(temp,(225))\n",
    "    img.append(temp)\n",
    "    y_train.append('mango')\n",
    "for i in range(1,44):\n",
    "    temp=Image.open('dataset/apple3/'+str(i)+'.jpg')\n",
    "    temp=temp.resize((15,15))\n",
    "    temp=np.array(temp)\n",
    "    temp=cv.cvtColor(temp,cv.COLOR_RGB2GRAY)\n",
    "    temp=np.reshape(temp,(225))\n",
    "    img.append(temp)\n",
    "    y_train.append('apple')"
   ]
  },
  {
   "cell_type": "code",
   "execution_count": 63,
   "metadata": {},
   "outputs": [],
   "source": [
    "img=np.array(img)\n",
    "y_train=np.array(y_train)\n",
    "x_train=img"
   ]
  },
  {
   "cell_type": "code",
   "execution_count": 68,
   "metadata": {},
   "outputs": [
    {
     "data": {
      "text/plain": [
       "87"
      ]
     },
     "execution_count": 68,
     "metadata": {},
     "output_type": "execute_result"
    }
   ],
   "source": [
    "y_train.shape[0]"
   ]
  },
  {
   "cell_type": "code",
   "execution_count": 95,
   "metadata": {},
   "outputs": [],
   "source": [
    "def sigmoid(z):\n",
    "    return(1/(1+math.exp(-1*z)))\n",
    "\n",
    "def gradient(xi,wi,y):\n",
    "    z=sigmoid(xi*wi)\n",
    "    return((y-z)*xi)\n",
    "\n",
    "#here delta is the derivative of next layer \n",
    "def backprop(xi,wi,delta):\n",
    "    z=sigmoid(xi,wi)\n",
    "    return(wi*delta*z*(1-z))\n",
    "labels={'apple':1,'mango':2}"
   ]
  },
  {
   "cell_type": "code",
   "execution_count": 96,
   "metadata": {},
   "outputs": [],
   "source": [
    "#input layer 2 neuron ,hidden layer 3 neuron ,op layer 1 neuron\n",
    "\n",
    "inputfeature=225\n",
    "layer2size=3\n",
    "layer3size=1\n",
    "\n",
    "#w12=np.full((inputfeature*layer2size),10)\n",
    "#w23=np.full((layer2size*layer3size),12)\n",
    "w12=np.random.rand(inputfeature*layer2size)\n",
    "w23=np.random.rand(layer2size*layer3size)\n",
    "\n",
    "rate=0.0010\n",
    "\n",
    "error=[]\n",
    "\n",
    "for _ in range(100):\n",
    "    \n",
    "    temperror=0.0\n",
    "    \n",
    "    for i in range(x_train.shape[0]):\n",
    "        # forword propagation\n",
    "\n",
    "        #layer 1 (input layer)\n",
    "        oplayer1=[]\n",
    "        for l in range(inputfeature):\n",
    "            oplayer1.append(sigmoid(x_train[i][l]))\n",
    "            #oplayer1.append(sigmoid(x_train[i][0]))\n",
    "            #oplayer1.append(sigmoid(x_train[i][1]))\n",
    "\n",
    "        #layer 2(hidden layer)\n",
    "        oplayer2=[]\n",
    "        for l in range(layer2size):\n",
    "            temp=0.0\n",
    "            for j in range(inputfeature):\n",
    "                temp=temp+w12[l+j*layer2size]*oplayer1[j]\n",
    "            oplayer2.append(sigmoid(temp))\n",
    "            \n",
    "            #oplayer2.append(sigmoid(w12[0]*oplayer1[0]+w12[0+3]*oplayer1[1]))\n",
    "            #oplayer2.append(sigmoid(w12[1]*oplayer1[0]+w12[1+3]*oplayer1[1]))\n",
    "            #oplayer2.append(sigmoid(w12[2]*oplayer1[0]+w12[2+3]*oplayer1[1]))\n",
    "\n",
    "        #layer 3 (output layer)\n",
    "        for l in range(layer3size):\n",
    "            yhat=[]\n",
    "            temp=0.0\n",
    "            for j in range(layer2size):\n",
    "                temp=temp+w23[l+j*layer3size]*oplayer2[j]\n",
    "            yhat.append(temp)\n",
    "            \n",
    "            #yhat=sigmoid(w23[0]*oplayer2[0]+w23[1]*oplayer2[1]+w23[2]*oplayer2[2])\n",
    "        temperror=temperror+math.pow(labels[y_train[i]]-yhat[0],2)\n",
    "        #back propagation\n",
    "\n",
    "        # gradient of last layer\n",
    "        deltalastlayer=[]\n",
    "        for l  in range(layer2size):\n",
    "            deltalastlayer.append(gradient(oplayer2[l],w23[l],labels[y_train[i]]))\n",
    "            w23[l]=w23[l]-rate*deltalastlayer[l]\n",
    "            #deltalastlayer.append(gradient(oplayer2[0],w23[0],labels[y_train[i]]))\n",
    "            #deltalastlayer.append(gradient(oplayer2[1],w23[1],labels[y_train[i]]))\n",
    "            #deltalastlayer.append(gradient(oplayer2[2],w23[2],labels[y_train[i]]))\n",
    "\n",
    "            #w23[0]=w23[0]-rate*deltalastlayer[0]\n",
    "            #w23[1]=w23[1]-rate*deltalastlayer[1]\n",
    "            #w23[2]=w23[2]-rate*deltalastlayer[2]\n",
    "\n",
    "\n",
    "        # gradient of second layer (hidden layer) layer\n",
    "        \n",
    "        for l in range(layer2size):\n",
    "            for j in range(inputfeature):\n",
    "                w12[l+j*layer2size]=w12[l+j*layer2size]-rate*deltalastlayer[l]*oplayer2[l]*(1-oplayer2[l])\n",
    "        \n",
    "            #w12[0]=w12[0]-rate*deltalastlayer[0]*oplayer2[0]*(1-oplayer2[0])\n",
    "            #w12[0+3]=w12[0+3]-rate*deltalastlayer[0]*oplayer2[0]*(1-oplayer2[0])\n",
    "\n",
    "            #w12[1]=w12[1]-rate*deltalastlayer[1]*oplayer2[1]*(1-oplayer2[1])\n",
    "            #w12[1+3]=w12[1+3]-rate*deltalastlayer[1]*oplayer2[1]*(1-oplayer2[1])\n",
    "\n",
    "            #w12[2]=w12[2]-rate*deltalastlayer[2]*oplayer2[2]*(1-oplayer2[2])\n",
    "            #w12[2+3]=w12[2+3]-rate*deltalastlayer[2]*oplayer2[2]*(1-oplayer2[2])\n",
    "        \n",
    "    error.append(temperror/x_train.shape[0])\n",
    "\n",
    "\n"
   ]
  },
  {
   "cell_type": "code",
   "execution_count": 97,
   "metadata": {},
   "outputs": [
    {
     "data": {
      "image/png": "[encoded data removed]",
      "text/plain": [
       "<Figure size 432x288 with 1 Axes>"
      ]
     },
     "metadata": {
      "needs_background": "light"
     },
     "output_type": "display_data"
    }
   ],
   "source": [
    "plt.plot(error)\n",
    "plt.xlabel('Number of Itteration')\n",
    "plt.ylabel('Square error')\n",
    "plt.text(60,error[3],('LRate='+str(rate)))\n",
    "plt.show()"
   ]
  },
  {
   "cell_type": "code",
   "execution_count": 79,
   "metadata": {},
   "outputs": [],
   "source": [
    "x_test=[]\n",
    "y_test=[]\n",
    "for i in range(45,50):\n",
    "    temp=Image.open('dataset/mango1/'+str(i)+'.jpg')\n",
    "    temp=temp.resize((15,15))\n",
    "    temp=np.array(temp)\n",
    "    temp=cv.cvtColor(temp,cv.COLOR_RGB2GRAY)\n",
    "    temp=np.reshape(temp,(225))\n",
    "    x_test.append(temp)\n",
    "    y_test.append('mango')\n",
    "for i in range(50,55):\n",
    "    temp=Image.open('dataset/apple3/'+str(i)+'.jpg')\n",
    "    temp=temp.resize((15,15))\n",
    "    temp=np.array(temp)\n",
    "    temp=cv.cvtColor(temp,cv.COLOR_RGB2GRAY)\n",
    "    temp=np.reshape(temp,(225))\n",
    "    x_test.append(temp)\n",
    "    y_test.append('apple')"
   ]
  },
  {
   "cell_type": "code",
   "execution_count": 80,
   "metadata": {},
   "outputs": [],
   "source": [
    "x_test=np.array(x_test)\n",
    "y_test=np.array(y_test)"
   ]
  },
  {
   "cell_type": "code",
   "execution_count": 98,
   "metadata": {},
   "outputs": [
    {
     "name": "stdout",
     "output_type": "stream",
     "text": [
      "(4.566189982919767e-12, 2)\n",
      "(4.566189982919767e-12, 2)\n",
      "(4.566189982919767e-12, 2)\n",
      "(4.566189982919767e-12, 2)\n",
      "(4.566189982924909e-12, 2)\n",
      "(4.566189982933734e-12, 1)\n",
      "(4.566189982919767e-12, 1)\n",
      "(4.566189982919767e-12, 1)\n",
      "(4.566189982919767e-12, 1)\n",
      "(4.566189982919767e-12, 1)\n"
     ]
    }
   ],
   "source": [
    "for k in range(x_test.shape[0]):\n",
    "       \n",
    "    \n",
    "    \n",
    "        # forword propagation\n",
    "\n",
    "        #layer 1 (input layer)\n",
    "        oplayer1=[]\n",
    "        oplayer1.append(sigmoid(x_test[k][0]))\n",
    "        oplayer1.append(sigmoid(x_test[k][1]))\n",
    "\n",
    "        #layer 2(hidden layer)\n",
    "        oplayer2=[]\n",
    "        oplayer2.append(sigmoid(w12[0]*oplayer1[0]+w12[0+3]*oplayer1[1]))\n",
    "        oplayer2.append(sigmoid(w12[1]*oplayer1[0]+w12[1+3]*oplayer1[1]))\n",
    "        oplayer2.append(sigmoid(w12[2]*oplayer1[0]+w12[2+3]*oplayer1[1]))\n",
    "\n",
    "        #layer 3 (output layer)\n",
    "        yhat=sigmoid(w23[0]*oplayer2[0]+w23[1]*oplayer2[1]+w23[2]*oplayer2[2])\n",
    "       \n",
    "        \n",
    "    \n",
    "    \n",
    "        print(yhat,labels[y_test[k]])\n",
    "\n",
    "\n"
   ]
  },
  {
   "cell_type": "code",
   "execution_count": 224,
   "metadata": {},
   "outputs": [
    {
     "data": {
      "text/plain": [
       "(576, 768)"
      ]
     },
     "execution_count": 224,
     "metadata": {},
     "output_type": "execute_result"
    }
   ],
   "source": [
    "grayimg=Image.open('gray.jpg')\n",
    "test=np.array(grayimg)\n",
    "test=cv.cvtColor(test,cv.COLOR_RGB2GRAY)\n",
    "temp=np.full((test.shape[0],test.shape[1],4),0.0)\n",
    "for i in range(1):\n",
    "    for k in range(test.shape[0]):\n",
    "        for j in range(test.shape[1]):\n",
    "            temp[k][j][i]=test[k][j]\n",
    "for i in range(1,2):\n",
    "    for k in range(test.shape[0]):\n",
    "        for j in range(test.shape[1]):\n",
    "            temp[k][j][i]=test[k][j]\n",
    "for i in range(2,3):\n",
    "    for k in range(test.shape[0]):\n",
    "        for j in range(test.shape[1]):\n",
    "            temp[k][j][i]=test[k][j]\n",
    "for i in range(3,4):\n",
    "    for k in range(test.shape[0]):\n",
    "        for j in range(test.shape[1]):\n",
    "            temp[k][j][i]=.2\n",
    "test.shape"
   ]
  },
  {
   "cell_type": "code",
   "execution_count": 225,
   "metadata": {},
   "outputs": [
    {
     "data": {
      "text/plain": [
       "True"
      ]
     },
     "execution_count": 225,
     "metadata": {},
     "output_type": "execute_result"
    }
   ],
   "source": [
    "cv.imwrite('test.jpg',temp)"
   ]
  },
  {
   "cell_type": "code",
   "execution_count": 156,
   "metadata": {},
   "outputs": [
    {
     "data": {
      "text/plain": [
       "(576, 768, 3)"
      ]
     },
     "execution_count": 156,
     "metadata": {},
     "output_type": "execute_result"
    }
   ],
   "source": [
    "temp.shape"
   ]
  },
  {
   "cell_type": "code",
   "execution_count": 197,
   "metadata": {},
   "outputs": [],
   "source": [
    "import random"
   ]
  },
  {
   "cell_type": "code",
   "execution_count": null,
   "metadata": {},
   "outputs": [],
   "source": []
  }
 ],
 "metadata": {
  "kernelspec": {
   "display_name": "Python 2",
   "language": "python",
   "name": "python2"
  },
  "language_info": {
   "codemirror_mode": {
    "name": "ipython",
    "version": 2
   },
   "file_extension": ".py",
   "mimetype": "text/x-python",
   "name": "python",
   "nbconvert_exporter": "python",
   "pygments_lexer": "ipython2",
   "version": "2.7.15"
  }
 },
 "nbformat": 4,
 "nbformat_minor": 2
}
